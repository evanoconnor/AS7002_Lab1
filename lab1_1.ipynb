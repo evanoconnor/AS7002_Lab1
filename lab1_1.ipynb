{
 "cells": [
  {
   "cell_type": "code",
   "execution_count": null,
   "id": "a8da5a31",
   "metadata": {},
   "outputs": [],
   "source": [
    "import numpy as np\n",
    "import matplotlib.pylab as plt"
   ]
  },
  {
   "cell_type": "markdown",
   "id": "9f51a4db",
   "metadata": {},
   "source": [
    "Runge-Kutta Methods\n",
    "==\n",
    "\n",
    "Often we have a differential equation we need to solve but can only evaluate the derivative.  A prime example is the equation of hydrostatic equilibrium.  If we want to know the pressure, P, (or the density, \\rho, they are related through an equation of state) as a function of radius r, but just have dP/dr = -\\rho d\\Psi/dr, where \\Psi is the gravitational potential, we can use Runge-Kutta methods to determine P(r) given a boundary condition, say P(r=0).\n",
    "\n",
    "We will take a simple example here and do a more complicated one next. We seek the unknown function y(x), but only know the derivative dy/dx = f(x,y) and the boundary condition y(x0) = y0.  We approximate y(x0+\\Deltax) = y(x0) + f(x0,y0)\\Deltax.  This is know as Euler's method, and it is a one-stage Runge-Kutta"
   ]
  },
  {
   "cell_type": "code",
   "execution_count": null,
   "id": "4480791e",
   "metadata": {},
   "outputs": [],
   "source": [
    "#define our derivative, here the unknown function is y=x**2, but we can't use that\n",
    "def f(x,y):\n",
    "    return y-x**2+2.*x\n",
    "\n"
   ]
  },
  {
   "cell_type": "code",
   "execution_count": null,
   "id": "3d67623f",
   "metadata": {},
   "outputs": [],
   "source": [
    "#define a function to solve the differential equation. \n",
    "#It takes as arguments the differential equation, a step size, \n",
    "#initial conditions, and a target value of x to solve to\n",
    "def euler_given_deltax(f,Deltax,x0=0,y0=0,xtarget=1):\n",
    "\n",
    "    nstep = int((xtarget-x0)/Deltax)\n",
    "    xs = np.zeros(nstep+1)\n",
    "    ys = np.zeros(nstep+1)\n",
    "\n",
    "    xs[0] = x0\n",
    "    ys[0] = y0\n",
    "    for i in range(1,nstep+1):\n",
    "        dydx = f(xs[i-1],ys[i-1])\n",
    "        xs[i] = xs[i-1] + Deltax\n",
    "        ys[i] = ys[i-1] + dydx*Deltax\n",
    "\n",
    "    return xs,ys\n",
    "\n"
   ]
  },
  {
   "cell_type": "code",
   "execution_count": null,
   "id": "0ba2d429",
   "metadata": {},
   "outputs": [],
   "source": [
    "#define a function to solve the differential equation. \n",
    "#It takes as arguments the differential equation, a step size, \n",
    "#initial conditions, and a target value of x to solve to\n",
    "def midpoint_given_deltax(f,Deltax,x0=0,y0=0,xtarget=1):\n",
    "\n",
    "    nstep = int((xtarget-x0)/Deltax)\n",
    "    xs = np.zeros(nstep+1)\n",
    "    ys = np.zeros(nstep+1)\n",
    "\n",
    "    xs[0] = x0\n",
    "    ys[0] = y0\n",
    "    for i in range(1,nstep+1):\n",
    "        #define the midpoint method here\n",
    "        \n",
    "        \n",
    "    return xs,ys\n",
    "\n"
   ]
  },
  {
   "cell_type": "code",
   "execution_count": null,
   "id": "2715a079",
   "metadata": {},
   "outputs": [],
   "source": [
    "#lets test it out\n",
    "xtarget = 1\n",
    "x0=0\n",
    "y0=0\n",
    "\n",
    "#exact solution, y=x^2\n",
    "plt.plot(np.linspace(0,xtarget,100),np.linspace(0,xtarget,100)**2,label=\"Exact\")\n",
    "\n",
    "\n",
    "deltax = 1\n",
    "xs,ys = euler_given_deltax(f,deltax,x0=x0,y0=y0,xtarget=xtarget)\n",
    "plt.plot(xs,ys,label=\"Euler's method $\\Delta x$=\"+str(deltax))\n",
    "print(\"The error for deltax = \"+str(deltax)+\" is \"+str(abs(1-ys[-1])))\n",
    "\n",
    "deltax = 0.1\n",
    "xs,ys = euler_given_deltax(f,deltax,x0=x0,y0=y0,xtarget=xtarget)\n",
    "plt.plot(xs,ys,label=\"Euler's method $\\Delta x$=\"+str(deltax))\n",
    "print(\"The error for deltax = \"+str(deltax)+\" is \"+str(abs(1-ys[-1])))\n",
    "\n",
    "deltax = 0.01\n",
    "xs,ys = euler_given_deltax(f,deltax,x0=x0,y0=y0,xtarget=xtarget)\n",
    "plt.plot(xs,ys,label=\"Euler's method $\\Delta x$=\"+str(deltax))\n",
    "print(\"The error for deltax = \"+str(deltax)+\" is \"+str(abs(1-ys[-1])))\n",
    "\n",
    "deltax = 0.001\n",
    "xs,ys = euler_given_deltax(f,deltax,x0=x0,y0=y0,xtarget=xtarget)\n",
    "plt.plot(xs,ys,label=\"Euler's method $\\Delta x$=\"+str(deltax))\n",
    "print(\"The error for deltax = \"+str(deltax)+\" is \"+str(abs(1-ys[-1])))\n",
    "\n",
    "plt.xlabel(\"x\")\n",
    "plt.ylabel(\"y\")\n",
    "plt.legend()\n",
    "plt.show()"
   ]
  },
  {
   "cell_type": "markdown",
   "id": "f3371b82",
   "metadata": {},
   "source": [
    "Method Order\n",
    "==\n",
    "\n",
    "Now work through part B, determine the error for many different values of deltax and see how it decreases with decreasing deltax"
   ]
  },
  {
   "cell_type": "code",
   "execution_count": null,
   "id": "4bafcbb2",
   "metadata": {},
   "outputs": [],
   "source": [
    "#set the boundary conditions\n",
    "xtarget = \n",
    "x0=\n",
    "y0=\n",
    "\n",
    "#now determine errors for many deltaxs\n",
    "ndeltax = \n",
    "\n",
    "#make an empty array to hold the deltaxs and the errors\n",
    "deltaxs = np.zeros(ndeltax)\n",
    "errors = np.zeros(ndeltax)\n",
    "\n",
    "for i in range(ndeltax):\n",
    "    deltaxs[i] = \n",
    "    xs,ys = euler_given_deltax(f,deltax,x0=x0,y0=y0,xtarget=xtarget)\n",
    "    errors[i] = \n",
    "    \n",
    "plt.plot(deltaxs,errors)\n",
    "plt.xlabel()\n",
    "plt.ylabel()\n",
    "plt.xscale('log')\n",
    "plt.yscale('log')\n",
    "plt.show()\n",
    "    "
   ]
  }
 ],
 "metadata": {
  "kernelspec": {
   "display_name": "Python 3 (ipykernel)",
   "language": "python",
   "name": "python3"
  },
  "language_info": {
   "codemirror_mode": {
    "name": "ipython",
    "version": 3
   },
   "file_extension": ".py",
   "mimetype": "text/x-python",
   "name": "python",
   "nbconvert_exporter": "python",
   "pygments_lexer": "ipython3",
   "version": "3.8.8"
  }
 },
 "nbformat": 4,
 "nbformat_minor": 5
}
